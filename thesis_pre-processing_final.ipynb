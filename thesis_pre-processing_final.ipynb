{
 "cells": [
  {
   "cell_type": "code",
   "execution_count": null,
   "id": "b906e105",
   "metadata": {},
   "outputs": [],
   "source": [
    "import pandas as pd\n",
    "import statistics\n",
    "import numpy as np\n",
    "import matplotlib.pyplot as plt\n",
    "import seaborn as sns\n",
    "import warnings\n",
    "from scipy import stats\n",
    "from datetime import datetime\n",
    "from ast import literal_eval"
   ]
  },
  {
   "cell_type": "markdown",
   "id": "86b8a690",
   "metadata": {},
   "source": [
    "getting data "
   ]
  },
  {
   "cell_type": "code",
   "execution_count": null,
   "id": "e86722c1",
   "metadata": {},
   "outputs": [],
   "source": [
    "#get topic modelling values\n",
    "#change part of name '9t' for each number of topics\n",
    "df_tm = pd.read_pickle(\"topic_modelling_values_9t.pkl\")\n",
    "\n",
    "#get review scores per listing from translated reviews\n",
    "df_rt =  pd.read_pickle(\"agg_review_scores_translated.pkl\")\n",
    "\n",
    "#get listing data\n",
    "data = pd.read_csv('listings.csv.gz', compression='gzip',)"
   ]
  },
  {
   "cell_type": "markdown",
   "id": "594d7b2d",
   "metadata": {},
   "source": [
    "EDA"
   ]
  },
  {
   "cell_type": "code",
   "execution_count": null,
   "id": "a3e75610",
   "metadata": {},
   "outputs": [],
   "source": [
    "data.describe()"
   ]
  },
  {
   "cell_type": "code",
   "execution_count": null,
   "id": "eeecd79a",
   "metadata": {},
   "outputs": [],
   "source": [
    "# df1 with all numeric raw values\n",
    "data.isnull().any(axis=1).sum()\n",
    "#data.isna().sum()\n"
   ]
  },
  {
   "cell_type": "code",
   "execution_count": null,
   "id": "3f99b166",
   "metadata": {},
   "outputs": [],
   "source": [
    "missing = data.isna().sum()\n",
    "with pd.option_context('display.max_rows', None, 'display.max_columns', None):\n",
    "    print(missing)"
   ]
  },
  {
   "cell_type": "code",
   "execution_count": null,
   "id": "707c114b",
   "metadata": {},
   "outputs": [],
   "source": [
    "#count listings with bedrooms='NA' where description or name contains 'studio'\n",
    "missing_bedrooms = data[data['bedrooms'].isnull()].index.tolist()\n",
    "count =0\n",
    "for i in missing_bedrooms:\n",
    "    name = data['name'].iloc[i]\n",
    "    desc = str(data['description'].iloc[i])\n",
    "    if 'studio' in name:\n",
    "        count += 1\n",
    "    elif 'studio' in desc:\n",
    "        count += 1\n",
    "    else:\n",
    "        continue\n",
    "print(count)"
   ]
  },
  {
   "cell_type": "code",
   "execution_count": null,
   "id": "faa2370d",
   "metadata": {},
   "outputs": [],
   "source": [
    "warnings.filterwarnings('ignore')\n",
    "plt.figure(figsize=(16,5))\n",
    "plt.subplot(1,2,1)\n",
    "sns.distplot(data['accommodates'])\n",
    "plt.subplot(1,2,2)\n",
    "sns.distplot(data['availability_90'])\n",
    "plt.show()"
   ]
  },
  {
   "cell_type": "markdown",
   "id": "c2228644",
   "metadata": {},
   "source": [
    "feature transformation"
   ]
  },
  {
   "cell_type": "code",
   "execution_count": null,
   "id": "aeefb47d",
   "metadata": {},
   "outputs": [],
   "source": [
    "#host_since to amount of days they have been host\n",
    "today = datetime.today()\n",
    "\n",
    "def date_time(date):\n",
    "    new_date = datetime.strptime(date, '%Y-%m-%d')\n",
    "    days_tot = (today-new_date).days\n",
    "    return days_tot\n",
    "\n",
    "data['host_since'] = data.apply(lambda x: date_time(x.loc['host_since']), axis=1)"
   ]
  },
  {
   "cell_type": "code",
   "execution_count": null,
   "id": "d050bb1d",
   "metadata": {},
   "outputs": [],
   "source": [
    "#literal eval makes list variable from list in string format\n",
    "def host_ver(x):\n",
    "    try:\n",
    "        leng = literal_eval(x)\n",
    "    except:\n",
    "        leng = []\n",
    "    return leng\n",
    "#get length of list (i.e. # of verifications host has)\n",
    "data['host_verifications'] = data['host_verifications'].apply(host_ver)\n",
    "data['host_verifications'] = data.apply(lambda x: len(x.loc['host_verifications']), axis=1)"
   ]
  },
  {
   "cell_type": "code",
   "execution_count": null,
   "id": "192f3185",
   "metadata": {},
   "outputs": [],
   "source": [
    "# listings where host has about text=1, listing without about text=0\n",
    "data['host_about'] = data['host_about'].isna()\n",
    "data['host_about'] = data['host_about'].map({True:0, False:1})\n",
    "\n"
   ]
  },
  {
   "cell_type": "code",
   "execution_count": null,
   "id": "b9704afa",
   "metadata": {},
   "outputs": [],
   "source": [
    "#make price variable into float\n",
    "data['price'] = data['price'].map(lambda price: price.replace('$', ''))\n",
    "data['price'] = data['price'].map(lambda price: price.replace(',', ''))\n",
    "data['price'] = pd.to_numeric(data['price'])\n",
    "\n",
    "#remove rows with 0 value for price and get log price \n",
    "data.drop(data.index[data['price'] == 0], inplace = True)\n",
    "data['log_price'] = np.log(data['price'])\n"
   ]
  },
  {
   "cell_type": "code",
   "execution_count": null,
   "id": "1e903abe",
   "metadata": {},
   "outputs": [],
   "source": [
    "#bool for instant bookable\n",
    "data['instant_bookable'] = data['instant_bookable'].map({'t': True, 'f': False})\n",
    "#bool for identity verified\n",
    "data['host_identity_verified'] = data['host_identity_verified'].map({'t': True, 'f': False})\n",
    "#bool for superhost\n",
    "data['host_is_superhost'] = data['host_is_superhost'].map({'t': True, 'f': False})"
   ]
  },
  {
   "cell_type": "code",
   "execution_count": null,
   "id": "72913cc5",
   "metadata": {},
   "outputs": [],
   "source": [
    "#new dummy variable if bathroom is shared or not\n",
    "data['bathrooms_text'] = data['bathrooms_text'].astype(str)\n",
    "def bath_shared(text):\n",
    "    if 'shared' in text:\n",
    "        return 1\n",
    "    else:\n",
    "        return 0\n",
    "\n",
    "data['bath_shared'] = data.apply(lambda x: bath_shared(x['bathrooms_text']), axis=1)"
   ]
  },
  {
   "cell_type": "code",
   "execution_count": null,
   "id": "a74ef828",
   "metadata": {},
   "outputs": [],
   "source": [
    "#new dummy variable if bathroom is shared or not\n",
    "def bath_number(text):\n",
    "    if '1' in text:\n",
    "        return 1\n",
    "    elif '2' in text:\n",
    "        return 2\n",
    "    elif '3' in text:\n",
    "        return 3\n",
    "    elif '4' in text:\n",
    "        return 4\n",
    "    elif '5' in text:\n",
    "        return 5\n",
    "    elif 'half' in text:\n",
    "        return 0.5\n",
    "    else:\n",
    "        return 0\n",
    "\n",
    "data['bath_number'] = data.apply(lambda x: bath_number(x['bathrooms_text']), axis=1)"
   ]
  },
  {
   "cell_type": "code",
   "execution_count": null,
   "id": "c33f870f",
   "metadata": {},
   "outputs": [],
   "source": [
    "#categories for accommodation type - new dataframe\n",
    "def property_type(text):\n",
    "    text = text.lower()\n",
    "    if 'private' in text or 'room' in text:\n",
    "        return 'type_private_room'\n",
    "    elif 'shared' in text or 'hostel' in text:\n",
    "        return 'type_shared_room'\n",
    "    elif 'entire' in text:\n",
    "        return 'type_entire_property'\n",
    "    elif 'boat' in text:\n",
    "        return 'type_boat'\n",
    "    else:\n",
    "        return 'type_other'\n",
    "\n",
    "data['property_cat'] = data.apply(lambda x: property_type(x['property_type']), axis=1)\n",
    "dpc = pd.get_dummies(data['property_cat'])\n"
   ]
  },
  {
   "cell_type": "code",
   "execution_count": null,
   "id": "dd0bd7ad",
   "metadata": {},
   "outputs": [],
   "source": [
    "#one-hot encoding for amenities\n",
    "\n",
    "#get all unique values from amenities\n",
    "import json\n",
    "unique_val = set()\n",
    "for i in data['amenities']:\n",
    "    test = json.loads(i)\n",
    "    for j in test:\n",
    "        unique_val.add(j)\n",
    "\n",
    "res = dict.fromkeys(unique_val, 0)\n",
    "\n",
    "for i in data['amenities']:\n",
    "    test = json.loads(i)\n",
    "    for j in test:\n",
    "        if j in unique_val:\n",
    "            res[j] += 1\n",
    "            \n",
    "amenities_dict = dict(sorted(res.items(), key=lambda item: item[1], reverse=True))\n",
    "sum(1 for i in amenities_dict.values() if i >= 1000)\n",
    "\n",
    "# dummies for amenities that appear more than 2000 times\n",
    "d = dict((k, v) for k, v in amenities_dict.items() if v >= 2000)\n",
    "d=list(d.keys())\n",
    "\n",
    "    \n",
    "df_am = data[['id','amenities']].copy()\n",
    "for i in d:\n",
    "    def am_test(x):\n",
    "        if i in x:\n",
    "            return 1\n",
    "        else:\n",
    "            return 0\n",
    "    col_name= 'amenities_'+ (i.replace(\" \", \"_\"))\n",
    "    df_am[col_name] = df_am['amenities'].apply(am_test)\n",
    "\n",
    "#new dataframe with dummies \n",
    "df_am = df_am.drop(columns=['id', 'amenities'])\n"
   ]
  },
  {
   "cell_type": "code",
   "execution_count": null,
   "id": "93b89696",
   "metadata": {},
   "outputs": [],
   "source": [
    "#create dataframe with only relevant features\n",
    "df1 = data[['id','accommodates', 'beds', 'bedrooms', 'bath_shared', 'bath_number', 'host_about', 'host_verifications', 'host_since', 'host_total_listings_count', 'host_identity_verified', 'host_is_superhost',  'instant_bookable','minimum_nights', 'maximum_nights', 'availability_365', 'number_of_reviews', 'review_scores_rating', 'reviews_per_month', 'log_price']].copy()\n",
    "#fill NA and drop remaining NA\n",
    "df1['reviews_per_month'] = df1['reviews_per_month'].fillna(0)\n",
    "df1['bedrooms'] = df1['bedrooms'].fillna(0)\n",
    "df1 = df1.dropna()\n",
    "df1.rename(columns = {'id':'listing_id'}, inplace = True)"
   ]
  },
  {
   "cell_type": "code",
   "execution_count": null,
   "id": "acaa35c1",
   "metadata": {},
   "outputs": [],
   "source": [
    "#dummies for neighbourhoods\n",
    "dn = pd.get_dummies(data['neighbourhood_cleansed'])\n",
    "#dataset with all dataframes with dummies attached\n",
    "df1 = df1.join(dn)\n",
    "df1 = df1.join(dpc)\n",
    "df1 = df1.join(df_am)\n"
   ]
  },
  {
   "cell_type": "code",
   "execution_count": null,
   "id": "57d8e901",
   "metadata": {},
   "outputs": [],
   "source": [
    "df1.to_pickle(\"dataset_final.pkl\")"
   ]
  }
 ],
 "metadata": {
  "kernelspec": {
   "display_name": "Python 3 (ipykernel)",
   "language": "python",
   "name": "python3"
  },
  "language_info": {
   "codemirror_mode": {
    "name": "ipython",
    "version": 3
   },
   "file_extension": ".py",
   "mimetype": "text/x-python",
   "name": "python",
   "nbconvert_exporter": "python",
   "pygments_lexer": "ipython3",
   "version": "3.8.8"
  }
 },
 "nbformat": 4,
 "nbformat_minor": 5
}
