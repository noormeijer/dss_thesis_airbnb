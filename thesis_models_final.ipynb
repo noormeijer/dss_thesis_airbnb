{
 "cells": [
  {
   "cell_type": "code",
   "execution_count": null,
   "id": "c0d31206",
   "metadata": {},
   "outputs": [],
   "source": [
    "import pandas as pd\n",
    "import numpy as np\n",
    "import sklearn\n",
    "import statistics\n",
    "import seaborn as sns\n",
    "import xgboost as xg\n",
    "\n",
    "from numpy import mean, std, absolute\n",
    "from sklearn.model_selection import cross_val_score, train_test_split, RandomizedSearchCV\n",
    "from sklearn.metrics import r2_score, mean_absolute_error\n",
    "from sklearn.metrics import mean_squared_error as MSE\n",
    "from sklearn.preprocessing import StandardScaler, MinMaxScaler\n",
    "from sklearn.linear_model import Ridge\n",
    "from sklearn.svm import SVR\n",
    "from yellowbrick.regressor import prediction_error\n",
    "from matplotlib import pyplot as plt\n",
    "from xgboost import XGBRegressor"
   ]
  },
  {
   "cell_type": "code",
   "execution_count": null,
   "id": "1c2f9571",
   "metadata": {
    "scrolled": false
   },
   "outputs": [],
   "source": [
    "dataset = pd.read_pickle(\"dataset_final.pkl\")\n",
    "dataset = dataset.drop(columns=['minimum_minimum_nights', 'maximum_minimum_nights', 'minimum_maximum_nights', 'maximum_maximum_nights',\n",
    "                               'minimum_nights_avg_ntm', 'maximum_nights_avg_ntm', 'availability_30',\n",
    "                               'availability_60', 'availability_90', 'number_of_reviews_ltm', \n",
    "                                'calculated_host_listings_count_entire_homes', 'calculated_host_listings_count_private_rooms',\n",
    "                               'calculated_host_listings_count_shared_rooms', 'price']).copy()\n",
    "dataset.rename(columns = {'id':'listing_id'}, inplace = True)\n",
    "\n"
   ]
  },
  {
   "cell_type": "markdown",
   "id": "7b7accee",
   "metadata": {},
   "source": [
    "loading datasets for subquestions"
   ]
  },
  {
   "cell_type": "code",
   "execution_count": null,
   "id": "f36555f6",
   "metadata": {},
   "outputs": [],
   "source": [
    "#dataset sentiment scores\n",
    "df_rt =  pd.read_pickle(\"agg_review_scores_translated.pkl\")\n",
    "final_dataset = pd.merge(dataset, df_rt, on='listing_id')"
   ]
  },
  {
   "cell_type": "code",
   "execution_count": null,
   "id": "2e349a7f",
   "metadata": {},
   "outputs": [],
   "source": [
    "#dataset review recency\n",
    "df_rr = pd.read_pickle(\"agg_weighted_rs.pkl\")\n",
    "final_dataset = pd.merge(dataset, df_rr, on='listing_id')"
   ]
  },
  {
   "cell_type": "code",
   "execution_count": null,
   "id": "96744867",
   "metadata": {},
   "outputs": [],
   "source": [
    "#dataset topic modelling where '9t' = num_topics\n",
    "df_9t =  pd.read_pickle(\"topic_modelling_values_9t.pkl\")\n",
    "final_dataset = pd.merge(dataset, df_9t, on='listing_id')"
   ]
  },
  {
   "cell_type": "code",
   "execution_count": null,
   "id": "fc4fff20",
   "metadata": {},
   "outputs": [],
   "source": [
    "#reset index\n",
    "final_dataset.reset_index(drop=True, inplace=True)"
   ]
  },
  {
   "cell_type": "code",
   "execution_count": null,
   "id": "565f2488",
   "metadata": {},
   "outputs": [],
   "source": [
    "#drop listing id column\n",
    "df1 = final_dataset.drop(columns=['listing_id']).copy()"
   ]
  },
  {
   "cell_type": "markdown",
   "id": "09421379",
   "metadata": {},
   "source": [
    "Train test split"
   ]
  },
  {
   "cell_type": "code",
   "execution_count": null,
   "id": "2633eb27",
   "metadata": {},
   "outputs": [],
   "source": [
    "#train test split data\n",
    "X = df1.drop(columns=['log_price']).copy()\n",
    "Y = df1['log_price'].copy()\n",
    "x_train, x_test, y_train, y_test = train_test_split(X, Y, test_size=0.2, random_state=42)"
   ]
  },
  {
   "cell_type": "code",
   "execution_count": null,
   "id": "381cb46c",
   "metadata": {},
   "outputs": [],
   "source": [
    "#scale data\n",
    "scaler = MinMaxScaler()\n",
    "x_train = scaler.fit_transform(x_train)\n",
    "x_test = scaler.transform(x_test)\n",
    "\n",
    "x_train = pd.DataFrame(x_train)\n",
    "x_test = pd.DataFrame(x_test)"
   ]
  },
  {
   "cell_type": "markdown",
   "id": "87144408",
   "metadata": {},
   "source": [
    "Models: SVR"
   ]
  },
  {
   "cell_type": "code",
   "execution_count": null,
   "id": "20c3422d",
   "metadata": {},
   "outputs": [],
   "source": [
    "#hyperparameter tuning\n",
    "\n",
    "model=SVR()\n",
    "#tuned parameters\n",
    "param_grid = {'C': [15,10,5,1],\n",
    "              'gamma': [0.001, 0.01, 0.1, 0.0001, 'scale', 'auto'],\n",
    "              'epsilon': [0.2, 0.1, 0.05, 0.01],\n",
    "               'kernel': ['rbf', 'poly', 'linear']}\n",
    "\n",
    "random_cv = RandomizedSearchCV(estimator=model,\n",
    "            param_distributions=param_grid,\n",
    "            cv=5, n_iter=50,\n",
    "            scoring = 'r2', n_jobs = 4,\n",
    "            verbose = 5, \n",
    "            return_train_score = True,\n",
    "            random_state=1)\n",
    "\n",
    "random_cv.fit(x_train,y_train)\n",
    "\n",
    "random_cv.best_estimator_\n",
    "\n",
    "random_cv.best_params_"
   ]
  },
  {
   "cell_type": "code",
   "execution_count": null,
   "id": "882540dd",
   "metadata": {},
   "outputs": [],
   "source": [
    "#train model with best hyperparameters\n",
    "svr_best=SVR(C=10, gamma='auto', epsilon=0.1)\n",
    "svr_best.fit(x_train, y_train)\n",
    "svr_pred = svr_best.predict(x_test)\n",
    "\n",
    "mae = mean_absolute_error(y_test, svr_pred)\n",
    "print(\"MAE : % f\" %(mae))\n",
    "rmse = np.sqrt(MSE(y_test, svr_pred))\n",
    "print(\"RMSE : % f\" %(rmse))\n",
    "r2 = r2_score(y_test, svr_pred)\n",
    "print(\"R2 : % f\" %(r2))"
   ]
  },
  {
   "cell_type": "markdown",
   "id": "5da0ec67",
   "metadata": {},
   "source": [
    "Models: extreme gradient boosting"
   ]
  },
  {
   "cell_type": "code",
   "execution_count": null,
   "id": "c44b83e3",
   "metadata": {},
   "outputs": [],
   "source": [
    "#hyperparameter tuning\n",
    "model = XGBRegressor()\n",
    "\n",
    "#tuned hyperparameters\n",
    "n_estimators = [10, 50, 100, 300, 400, 500]\n",
    "min_split_loss = [0, 0.2, 0.5]\n",
    "max_depth = [2, 3, 5, 10, 15]\n",
    "booster=['gbtree','gblinear', 'dart']\n",
    "learning_rate=[0.05,0.1, 0.3, 0.5]\n",
    "min_child_weight=[1,2,3]\n",
    "subsample =[0.5,0.7,1]\n",
    "base_score=[0.25,0.5,1]\n",
    "\n",
    "hyperparameter_grid = {\n",
    "    'n_estimators': n_estimators,\n",
    "    'min_split_loss':min_split_loss,\n",
    "    'max_depth':max_depth,\n",
    "    'learning_rate':learning_rate,\n",
    "    'min_child_weight':min_child_weight,\n",
    "    'subsample':subsample,\n",
    "    'booster':booster,\n",
    "    'base_score':base_score\n",
    "    }\n",
    "\n",
    "\n",
    "random_cv = RandomizedSearchCV(estimator=model,\n",
    "            param_distributions=hyperparameter_grid,\n",
    "            cv=5, n_iter=50,\n",
    "            scoring = 'r2',n_jobs = 4,\n",
    "            verbose = 5, \n",
    "            return_train_score = True,\n",
    "            random_state=1)\n",
    "\n",
    "random_cv.fit(x_train,y_train)\n",
    "\n",
    "random_cv.best_estimator_"
   ]
  },
  {
   "cell_type": "code",
   "execution_count": null,
   "id": "f45dc668",
   "metadata": {},
   "outputs": [],
   "source": [
    "#train XGBoost with best hyperparameters\n",
    "\n",
    "best_xgbr= XGBRegressor(base_score=1, booster='gbtree', colsample_bylevel=1,\n",
    "             colsample_bynode=1, colsample_bytree=1, enable_categorical=False,\n",
    "             gamma=0.200000003, gpu_id=-1, importance_type=None,\n",
    "             interaction_constraints='', learning_rate=0.1, max_delta_step=0,\n",
    "             max_depth=5, min_child_weight=1, min_split_loss=0.2,\n",
    "             monotone_constraints='()', n_estimators=500, n_jobs=8,\n",
    "             num_parallel_tree=1, predictor='auto', random_state=0, reg_alpha=0,\n",
    "             reg_lambda=1, scale_pos_weight=1, subsample=1, tree_method='exact',\n",
    "             validate_parameters=1, verbosity=None)\n",
    "\n",
    "best_xgbr.fit(x_train, y_train)\n",
    "  \n",
    "\n",
    "xgbr_pred = best_xgbr.predict(x_test)\n",
    "mae = mean_absolute_error(y_test, xgbr_pred)\n",
    "print(\"MAE : % f\" %(mae))\n",
    "rmse = np.sqrt(MSE(y_test, xgbr_pred))\n",
    "print(\"RMSE : % f\" %(rmse))\n",
    "r2 = r2_score(y_test, xgbr_pred)\n",
    "print(\"R2 : % f\" %(r2))\n"
   ]
  },
  {
   "cell_type": "markdown",
   "id": "bb33c55e",
   "metadata": {},
   "source": [
    "models: ridge regression"
   ]
  },
  {
   "cell_type": "code",
   "execution_count": null,
   "id": "555f4d8a",
   "metadata": {},
   "outputs": [],
   "source": [
    "#hyperparameter tuning\n",
    "model = Ridge()\n",
    "\n",
    "grid = dict()\n",
    "grid['alpha'] = np.arange(0, 1, 0.01)\n",
    "\n",
    "search = RandomizedSearchCV(model, grid, scoring='r2', n_jobs=-1)\n",
    "\n",
    "results = search.fit(x_train, y_train)\n",
    "\n",
    "print('Best: %s' % results.best_params_)"
   ]
  },
  {
   "cell_type": "code",
   "execution_count": null,
   "id": "83b9a01a",
   "metadata": {},
   "outputs": [],
   "source": [
    "#training model with best alpha\n",
    "best_ridge = Ridge(alpha=0.99)\n",
    "best_ridge.fit(x_train,y_train)\n",
    "ridge_pred = best_ridge.predict(x_test)\n",
    "\n",
    "mae = mean_absolute_error(y_test, ridge_pred)\n",
    "print(\"MAE : % f\" %(mae))\n",
    "rmse = np.sqrt(mean_squared_error(y_test, ridge_pred))\n",
    "print(\"RMSE : % f\" %(rmse))\n",
    "r2 = r2_score(y_test, ridge_pred)\n",
    "print(\"R2 : % f\" %(r2))"
   ]
  },
  {
   "cell_type": "markdown",
   "id": "653f05ab",
   "metadata": {},
   "source": [
    "visualizations"
   ]
  },
  {
   "cell_type": "code",
   "execution_count": null,
   "id": "2213ef1c",
   "metadata": {},
   "outputs": [],
   "source": [
    "#visualize prediction error\n",
    "visualizer = prediction_error(svr_best, x_train, y_train, x_test, y_test, identity=False)\n",
    "#visualizer = prediction_error(best_xgbr, x_train, y_train, x_test, y_test, identity=False)\n",
    "#visualizer = prediction_error(best_ridge, x_train, y_train, x_test, y_test, identity=False)\n"
   ]
  },
  {
   "cell_type": "code",
   "execution_count": null,
   "id": "ac0c853f",
   "metadata": {},
   "outputs": [],
   "source": [
    "#visualize actual values & absolute error\n",
    "test = y_test.array\n",
    "test_ = abs(test-svr_pred)\n",
    "#test_ = abs(test-xgbr_pred)\n",
    "#test_ = abs(test-ridge_pred)\n",
    "\n",
    "sns.scatterplot(x=y_test,y=test_)\n",
    "plt.title('Actual values and absolute error')\n",
    "plt.xlabel('Actual values')\n",
    "plt.ylabel('Absolute Error')\n",
    "plt.show()"
   ]
  },
  {
   "cell_type": "code",
   "execution_count": null,
   "id": "d6b0b825",
   "metadata": {},
   "outputs": [],
   "source": []
  }
 ],
 "metadata": {
  "kernelspec": {
   "display_name": "Python 3 (ipykernel)",
   "language": "python",
   "name": "python3"
  },
  "language_info": {
   "codemirror_mode": {
    "name": "ipython",
    "version": 3
   },
   "file_extension": ".py",
   "mimetype": "text/x-python",
   "name": "python",
   "nbconvert_exporter": "python",
   "pygments_lexer": "ipython3",
   "version": "3.8.8"
  }
 },
 "nbformat": 4,
 "nbformat_minor": 5
}
